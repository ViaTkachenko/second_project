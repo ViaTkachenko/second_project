copy con project.ipynb
q

dd
cd second_project
copy con data.csv
